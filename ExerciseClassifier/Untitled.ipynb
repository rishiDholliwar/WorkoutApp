{
 "cells": [
  {
   "cell_type": "code",
   "execution_count": 1,
   "metadata": {},
   "outputs": [],
   "source": [
    "import sys\n",
    "import numpy as np\n",
    "import pandas as pd\n",
    "import matplotlib.pyplot as plt\n",
    "from scipy import signal\n",
    "from scipy import stats\n",
    "from sklearn.pipeline import make_pipeline\n",
    "from sklearn.preprocessing import FunctionTransformer\n",
    "from sklearn.model_selection import train_test_split\n",
    "from sklearn.naive_bayes import GaussianNB\n",
    "from sklearn.neighbors import KNeighborsClassifier\n",
    "from sklearn.ensemble import RandomForestClassifier\n",
    "from sklearn.preprocessing import MinMaxScaler, StandardScaler\n",
    "from statsmodels.nonparametric.smoothers_lowess import lowess\n",
    "from collections import Counter\n",
    "import time"
   ]
  },
  {
   "cell_type": "code",
   "execution_count": 2,
   "metadata": {},
   "outputs": [],
   "source": [
    "guess_exercise_df = pd.read_csv(\"data.csv\")"
   ]
  },
  {
   "cell_type": "code",
   "execution_count": 3,
   "metadata": {},
   "outputs": [
    {
     "data": {
      "text/html": [
       "<div>\n",
       "<style scoped>\n",
       "    .dataframe tbody tr th:only-of-type {\n",
       "        vertical-align: middle;\n",
       "    }\n",
       "\n",
       "    .dataframe tbody tr th {\n",
       "        vertical-align: top;\n",
       "    }\n",
       "\n",
       "    .dataframe thead th {\n",
       "        text-align: right;\n",
       "    }\n",
       "</style>\n",
       "<table border=\"1\" class=\"dataframe\">\n",
       "  <thead>\n",
       "    <tr style=\"text-align: right;\">\n",
       "      <th></th>\n",
       "      <th>time</th>\n",
       "      <th>ax (m/s^2)</th>\n",
       "      <th>ay (m/s^2)</th>\n",
       "      <th>az (m/s^2)</th>\n",
       "      <th>aT (m/s^2)</th>\n",
       "    </tr>\n",
       "  </thead>\n",
       "  <tbody>\n",
       "    <tr>\n",
       "      <th>0</th>\n",
       "      <td>0.004</td>\n",
       "      <td>0.1925</td>\n",
       "      <td>-0.1423</td>\n",
       "      <td>0.0988</td>\n",
       "      <td>0.259</td>\n",
       "    </tr>\n",
       "    <tr>\n",
       "      <th>1</th>\n",
       "      <td>0.004</td>\n",
       "      <td>0.5429</td>\n",
       "      <td>0.1905</td>\n",
       "      <td>0.7809</td>\n",
       "      <td>0.970</td>\n",
       "    </tr>\n",
       "    <tr>\n",
       "      <th>2</th>\n",
       "      <td>0.011</td>\n",
       "      <td>0.5640</td>\n",
       "      <td>0.2657</td>\n",
       "      <td>1.4413</td>\n",
       "      <td>1.570</td>\n",
       "    </tr>\n",
       "    <tr>\n",
       "      <th>3</th>\n",
       "      <td>0.021</td>\n",
       "      <td>0.6467</td>\n",
       "      <td>0.2393</td>\n",
       "      <td>1.8608</td>\n",
       "      <td>1.984</td>\n",
       "    </tr>\n",
       "    <tr>\n",
       "      <th>4</th>\n",
       "      <td>0.030</td>\n",
       "      <td>0.5739</td>\n",
       "      <td>0.0895</td>\n",
       "      <td>1.8543</td>\n",
       "      <td>1.943</td>\n",
       "    </tr>\n",
       "    <tr>\n",
       "      <th>...</th>\n",
       "      <td>...</td>\n",
       "      <td>...</td>\n",
       "      <td>...</td>\n",
       "      <td>...</td>\n",
       "      <td>...</td>\n",
       "    </tr>\n",
       "    <tr>\n",
       "      <th>10682</th>\n",
       "      <td>103.287</td>\n",
       "      <td>-1.0166</td>\n",
       "      <td>-0.2371</td>\n",
       "      <td>-0.9416</td>\n",
       "      <td>1.406</td>\n",
       "    </tr>\n",
       "    <tr>\n",
       "      <th>10683</th>\n",
       "      <td>103.301</td>\n",
       "      <td>-0.5683</td>\n",
       "      <td>-0.2958</td>\n",
       "      <td>-2.2874</td>\n",
       "      <td>2.375</td>\n",
       "    </tr>\n",
       "    <tr>\n",
       "      <th>10684</th>\n",
       "      <td>103.309</td>\n",
       "      <td>-0.4664</td>\n",
       "      <td>0.0366</td>\n",
       "      <td>-1.6100</td>\n",
       "      <td>1.677</td>\n",
       "    </tr>\n",
       "    <tr>\n",
       "      <th>10685</th>\n",
       "      <td>103.319</td>\n",
       "      <td>-0.8944</td>\n",
       "      <td>-0.2493</td>\n",
       "      <td>-0.6153</td>\n",
       "      <td>1.114</td>\n",
       "    </tr>\n",
       "    <tr>\n",
       "      <th>10686</th>\n",
       "      <td>103.335</td>\n",
       "      <td>-1.8483</td>\n",
       "      <td>-0.4212</td>\n",
       "      <td>-1.4579</td>\n",
       "      <td>2.391</td>\n",
       "    </tr>\n",
       "  </tbody>\n",
       "</table>\n",
       "<p>10687 rows × 5 columns</p>\n",
       "</div>"
      ],
      "text/plain": [
       "          time  ax (m/s^2)  ay (m/s^2)  az (m/s^2)  aT (m/s^2)\n",
       "0        0.004      0.1925     -0.1423      0.0988       0.259\n",
       "1        0.004      0.5429      0.1905      0.7809       0.970\n",
       "2        0.011      0.5640      0.2657      1.4413       1.570\n",
       "3        0.021      0.6467      0.2393      1.8608       1.984\n",
       "4        0.030      0.5739      0.0895      1.8543       1.943\n",
       "...        ...         ...         ...         ...         ...\n",
       "10682  103.287     -1.0166     -0.2371     -0.9416       1.406\n",
       "10683  103.301     -0.5683     -0.2958     -2.2874       2.375\n",
       "10684  103.309     -0.4664      0.0366     -1.6100       1.677\n",
       "10685  103.319     -0.8944     -0.2493     -0.6153       1.114\n",
       "10686  103.335     -1.8483     -0.4212     -1.4579       2.391\n",
       "\n",
       "[10687 rows x 5 columns]"
      ]
     },
     "execution_count": 3,
     "metadata": {},
     "output_type": "execute_result"
    }
   ],
   "source": [
    "guess_exercise_df"
   ]
  },
  {
   "cell_type": "code",
   "execution_count": 4,
   "metadata": {},
   "outputs": [
    {
     "data": {
      "text/plain": [
       "[<matplotlib.lines.Line2D at 0x7efd0ee6e5c0>]"
      ]
     },
     "execution_count": 4,
     "metadata": {},
     "output_type": "execute_result"
    },
    {
     "data": {
      "image/png": "[encoded data removed]",
      "text/plain": [
       "<Figure size 432x288 with 1 Axes>"
      ]
     },
     "metadata": {
      "needs_background": "light"
     },
     "output_type": "display_data"
    }
   ],
   "source": [
    "plt.plot(guess_exercise_df['time'], guess_exercise_df['aT (m/s^2)'], 'b.', alpha=0.5)\n",
    "loess_smoothed = lowess(guess_exercise_df['aT (m/s^2)'],guess_exercise_df['time'], frac=0.05)\n",
    "plt.plot(guess_exercise_df['time'], loess_smoothed[:, 1], 'r-')"
   ]
  },
  {
   "cell_type": "code",
   "execution_count": null,
   "metadata": {},
   "outputs": [],
   "source": []
  }
 ],
 "metadata": {
  "kernelspec": {
   "display_name": "Python 3",
   "language": "python",
   "name": "python3"
  },
  "language_info": {
   "codemirror_mode": {
    "name": "ipython",
    "version": 3
   },
   "file_extension": ".py",
   "mimetype": "text/x-python",
   "name": "python",
   "nbconvert_exporter": "python",
   "pygments_lexer": "ipython3",
   "version": "3.7.3"
  }
 },
 "nbformat": 4,
 "nbformat_minor": 2
}
